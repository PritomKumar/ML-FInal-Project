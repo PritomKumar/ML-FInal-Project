{
  "nbformat": 4,
  "nbformat_minor": 0,
  "metadata": {
    "accelerator": "GPU",
    "colab": {
      "name": "vgg19 model-batch-16.ipynb",
      "provenance": [],
      "collapsed_sections": []
    },
    "kernelspec": {
      "display_name": "Python 3",
      "name": "python3"
    },
    "language_info": {
      "name": "python"
    }
  },
  "cells": [
    {
      "cell_type": "code",
      "metadata": {
        "colab": {
          "base_uri": "https://localhost:8080/"
        },
        "id": "m6fXr5z3MbIu",
        "outputId": "9dd6336a-6b3a-443f-e973-7ccb751acc2f"
      },
      "source": [
        "!pip install tensorflow-gpu"
      ],
      "execution_count": 1,
      "outputs": [
        {
          "output_type": "stream",
          "text": [
            "Collecting tensorflow-gpu\n",
            "\u001b[?25l  Downloading https://files.pythonhosted.org/packages/85/cc/a27e73cf8b23f2ce4bdd2b7089a42a7819ce6dd7366dceba406ddc5daa9c/tensorflow_gpu-2.4.1-cp37-cp37m-manylinux2010_x86_64.whl (394.3MB)\n",
            "\u001b[K     |████████████████████████████████| 394.3MB 43kB/s \n",
            "\u001b[?25hRequirement already satisfied: absl-py~=0.10 in /usr/local/lib/python3.7/dist-packages (from tensorflow-gpu) (0.12.0)\n",
            "Requirement already satisfied: typing-extensions~=3.7.4 in /usr/local/lib/python3.7/dist-packages (from tensorflow-gpu) (3.7.4.3)\n",
            "Requirement already satisfied: six~=1.15.0 in /usr/local/lib/python3.7/dist-packages (from tensorflow-gpu) (1.15.0)\n",
            "Requirement already satisfied: flatbuffers~=1.12.0 in /usr/local/lib/python3.7/dist-packages (from tensorflow-gpu) (1.12)\n",
            "Requirement already satisfied: wrapt~=1.12.1 in /usr/local/lib/python3.7/dist-packages (from tensorflow-gpu) (1.12.1)\n",
            "Requirement already satisfied: gast==0.3.3 in /usr/local/lib/python3.7/dist-packages (from tensorflow-gpu) (0.3.3)\n",
            "Requirement already satisfied: grpcio~=1.32.0 in /usr/local/lib/python3.7/dist-packages (from tensorflow-gpu) (1.32.0)\n",
            "Requirement already satisfied: astunparse~=1.6.3 in /usr/local/lib/python3.7/dist-packages (from tensorflow-gpu) (1.6.3)\n",
            "Requirement already satisfied: opt-einsum~=3.3.0 in /usr/local/lib/python3.7/dist-packages (from tensorflow-gpu) (3.3.0)\n",
            "Requirement already satisfied: protobuf>=3.9.2 in /usr/local/lib/python3.7/dist-packages (from tensorflow-gpu) (3.12.4)\n",
            "Requirement already satisfied: numpy~=1.19.2 in /usr/local/lib/python3.7/dist-packages (from tensorflow-gpu) (1.19.5)\n",
            "Requirement already satisfied: google-pasta~=0.2 in /usr/local/lib/python3.7/dist-packages (from tensorflow-gpu) (0.2.0)\n",
            "Requirement already satisfied: h5py~=2.10.0 in /usr/local/lib/python3.7/dist-packages (from tensorflow-gpu) (2.10.0)\n",
            "Requirement already satisfied: tensorboard~=2.4 in /usr/local/lib/python3.7/dist-packages (from tensorflow-gpu) (2.4.1)\n",
            "Requirement already satisfied: tensorflow-estimator<2.5.0,>=2.4.0 in /usr/local/lib/python3.7/dist-packages (from tensorflow-gpu) (2.4.0)\n",
            "Requirement already satisfied: wheel~=0.35 in /usr/local/lib/python3.7/dist-packages (from tensorflow-gpu) (0.36.2)\n",
            "Requirement already satisfied: termcolor~=1.1.0 in /usr/local/lib/python3.7/dist-packages (from tensorflow-gpu) (1.1.0)\n",
            "Requirement already satisfied: keras-preprocessing~=1.1.2 in /usr/local/lib/python3.7/dist-packages (from tensorflow-gpu) (1.1.2)\n",
            "Requirement already satisfied: setuptools in /usr/local/lib/python3.7/dist-packages (from protobuf>=3.9.2->tensorflow-gpu) (54.2.0)\n",
            "Requirement already satisfied: werkzeug>=0.11.15 in /usr/local/lib/python3.7/dist-packages (from tensorboard~=2.4->tensorflow-gpu) (1.0.1)\n",
            "Requirement already satisfied: markdown>=2.6.8 in /usr/local/lib/python3.7/dist-packages (from tensorboard~=2.4->tensorflow-gpu) (3.3.4)\n",
            "Requirement already satisfied: google-auth<2,>=1.6.3 in /usr/local/lib/python3.7/dist-packages (from tensorboard~=2.4->tensorflow-gpu) (1.28.0)\n",
            "Requirement already satisfied: google-auth-oauthlib<0.5,>=0.4.1 in /usr/local/lib/python3.7/dist-packages (from tensorboard~=2.4->tensorflow-gpu) (0.4.3)\n",
            "Requirement already satisfied: requests<3,>=2.21.0 in /usr/local/lib/python3.7/dist-packages (from tensorboard~=2.4->tensorflow-gpu) (2.23.0)\n",
            "Requirement already satisfied: tensorboard-plugin-wit>=1.6.0 in /usr/local/lib/python3.7/dist-packages (from tensorboard~=2.4->tensorflow-gpu) (1.8.0)\n",
            "Requirement already satisfied: importlib-metadata; python_version < \"3.8\" in /usr/local/lib/python3.7/dist-packages (from markdown>=2.6.8->tensorboard~=2.4->tensorflow-gpu) (3.8.1)\n",
            "Requirement already satisfied: pyasn1-modules>=0.2.1 in /usr/local/lib/python3.7/dist-packages (from google-auth<2,>=1.6.3->tensorboard~=2.4->tensorflow-gpu) (0.2.8)\n",
            "Requirement already satisfied: rsa<5,>=3.1.4; python_version >= \"3.6\" in /usr/local/lib/python3.7/dist-packages (from google-auth<2,>=1.6.3->tensorboard~=2.4->tensorflow-gpu) (4.7.2)\n",
            "Requirement already satisfied: cachetools<5.0,>=2.0.0 in /usr/local/lib/python3.7/dist-packages (from google-auth<2,>=1.6.3->tensorboard~=2.4->tensorflow-gpu) (4.2.1)\n",
            "Requirement already satisfied: requests-oauthlib>=0.7.0 in /usr/local/lib/python3.7/dist-packages (from google-auth-oauthlib<0.5,>=0.4.1->tensorboard~=2.4->tensorflow-gpu) (1.3.0)\n",
            "Requirement already satisfied: urllib3!=1.25.0,!=1.25.1,<1.26,>=1.21.1 in /usr/local/lib/python3.7/dist-packages (from requests<3,>=2.21.0->tensorboard~=2.4->tensorflow-gpu) (1.24.3)\n",
            "Requirement already satisfied: idna<3,>=2.5 in /usr/local/lib/python3.7/dist-packages (from requests<3,>=2.21.0->tensorboard~=2.4->tensorflow-gpu) (2.10)\n",
            "Requirement already satisfied: chardet<4,>=3.0.2 in /usr/local/lib/python3.7/dist-packages (from requests<3,>=2.21.0->tensorboard~=2.4->tensorflow-gpu) (3.0.4)\n",
            "Requirement already satisfied: certifi>=2017.4.17 in /usr/local/lib/python3.7/dist-packages (from requests<3,>=2.21.0->tensorboard~=2.4->tensorflow-gpu) (2020.12.5)\n",
            "Requirement already satisfied: zipp>=0.5 in /usr/local/lib/python3.7/dist-packages (from importlib-metadata; python_version < \"3.8\"->markdown>=2.6.8->tensorboard~=2.4->tensorflow-gpu) (3.4.1)\n",
            "Requirement already satisfied: pyasn1<0.5.0,>=0.4.6 in /usr/local/lib/python3.7/dist-packages (from pyasn1-modules>=0.2.1->google-auth<2,>=1.6.3->tensorboard~=2.4->tensorflow-gpu) (0.4.8)\n",
            "Requirement already satisfied: oauthlib>=3.0.0 in /usr/local/lib/python3.7/dist-packages (from requests-oauthlib>=0.7.0->google-auth-oauthlib<0.5,>=0.4.1->tensorboard~=2.4->tensorflow-gpu) (3.1.0)\n",
            "Installing collected packages: tensorflow-gpu\n",
            "Successfully installed tensorflow-gpu-2.4.1\n"
          ],
          "name": "stdout"
        }
      ]
    },
    {
      "cell_type": "code",
      "metadata": {
        "colab": {
          "base_uri": "https://localhost:8080/"
        },
        "id": "wSCaQqH3MqwP",
        "outputId": "222d099b-0360-4154-bc1e-201dee771a8a"
      },
      "source": [
        "!nvidia-smi"
      ],
      "execution_count": 2,
      "outputs": [
        {
          "output_type": "stream",
          "text": [
            "Mon Apr 12 10:47:22 2021       \n",
            "+-----------------------------------------------------------------------------+\n",
            "| NVIDIA-SMI 460.67       Driver Version: 460.32.03    CUDA Version: 11.2     |\n",
            "|-------------------------------+----------------------+----------------------+\n",
            "| GPU  Name        Persistence-M| Bus-Id        Disp.A | Volatile Uncorr. ECC |\n",
            "| Fan  Temp  Perf  Pwr:Usage/Cap|         Memory-Usage | GPU-Util  Compute M. |\n",
            "|                               |                      |               MIG M. |\n",
            "|===============================+======================+======================|\n",
            "|   0  Tesla P4            Off  | 00000000:00:04.0 Off |                    0 |\n",
            "| N/A   48C    P8     7W /  75W |      0MiB /  7611MiB |      0%      Default |\n",
            "|                               |                      |                  N/A |\n",
            "+-------------------------------+----------------------+----------------------+\n",
            "                                                                               \n",
            "+-----------------------------------------------------------------------------+\n",
            "| Processes:                                                                  |\n",
            "|  GPU   GI   CI        PID   Type   Process name                  GPU Memory |\n",
            "|        ID   ID                                                   Usage      |\n",
            "|=============================================================================|\n",
            "|  No running processes found                                                 |\n",
            "+-----------------------------------------------------------------------------+\n"
          ],
          "name": "stdout"
        }
      ]
    },
    {
      "cell_type": "code",
      "metadata": {
        "id": "EC9_vp34Ms-u"
      },
      "source": [
        "import tensorflow as tf"
      ],
      "execution_count": 3,
      "outputs": []
    },
    {
      "cell_type": "code",
      "metadata": {
        "id": "nhH0bRAiMvbu"
      },
      "source": [
        "import tensorflow \n",
        "\n",
        "import pandas as pd\n",
        "import numpy as np\n",
        "import os\n",
        "import keras\n",
        "import random\n",
        "import cv2\n",
        "import math\n",
        "import seaborn as sns\n",
        "\n",
        "from sklearn.metrics import confusion_matrix\n",
        "from sklearn.preprocessing import LabelBinarizer\n",
        "from sklearn.model_selection import train_test_split\n",
        "\n",
        "import matplotlib.pyplot as plt\n",
        "\n",
        "from tensorflow.keras.layers import Dense,GlobalAveragePooling2D,Convolution2D,BatchNormalization\n",
        "from tensorflow.keras.layers import Flatten,MaxPooling2D,Dropout,Input, Lambda\n",
        "\n",
        "from tensorflow.keras.applications import DenseNet121\n",
        "from tensorflow.keras.applications.vgg19 import VGG19\n",
        "from tensorflow.keras.applications.vgg19 import preprocess_input\n",
        "from tensorflow.keras.applications.densenet import preprocess_input\n",
        "\n",
        "from tensorflow.keras.preprocessing import image\n",
        "from tensorflow.keras.preprocessing.image import ImageDataGenerator,img_to_array,load_img\n",
        "\n",
        "from tensorflow.keras.models import Model\n",
        "\n",
        "from tensorflow.keras.optimizers import Adam\n",
        "\n",
        "from tensorflow.keras.callbacks import ModelCheckpoint, ReduceLROnPlateau\n",
        "\n",
        "\n",
        "\n",
        "# from tensorflow.keras.applications.inception_v3 import preprocess_input\n",
        "from tensorflow.keras.models import Sequential\n",
        "import numpy as np\n",
        "from glob import glob\n",
        "\n",
        "import warnings\n",
        "warnings.filterwarnings(\"ignore\")"
      ],
      "execution_count": 5,
      "outputs": []
    },
    {
      "cell_type": "code",
      "metadata": {
        "colab": {
          "base_uri": "https://localhost:8080/"
        },
        "id": "6FxUDTm-M8f3",
        "outputId": "7a90441f-4d4e-4bab-b7a0-504940f788a5"
      },
      "source": [
        "print(\"Tensorflow-version:\", tensorflow.__version__)"
      ],
      "execution_count": 6,
      "outputs": [
        {
          "output_type": "stream",
          "text": [
            "Tensorflow-version: 2.4.1\n"
          ],
          "name": "stdout"
        }
      ]
    },
    {
      "cell_type": "code",
      "metadata": {
        "id": "8cY6v-ySNGSA"
      },
      "source": [
        "size = 32\n",
        "model_name  = 'handwrittern bangla letter32 VGG19.h5'\n",
        "batch_size = 16\n",
        "IMAGE_SIZE = [size,size ]\n",
        "path = '/content/drive/MyDrive/Datasets/BasicFinalDatabase32/'\n",
        "\n",
        "train_path = path + 'Train'\n",
        "test_path = path + 'Test'"
      ],
      "execution_count": 7,
      "outputs": []
    },
    {
      "cell_type": "code",
      "metadata": {
        "id": "DOvH2xW7NJF2"
      },
      "source": [
        "folders = glob(train_path + '/*')"
      ],
      "execution_count": 8,
      "outputs": []
    },
    {
      "cell_type": "code",
      "metadata": {
        "id": "SeIa94qvNK4v",
        "colab": {
          "base_uri": "https://localhost:8080/"
        },
        "outputId": "87a7bcb5-d19b-4a47-94a7-eea9c8d67bea"
      },
      "source": [
        "# model_d=DenseNet121(weights='imagenet',include_top=False, input_shape=(size, size, 3,),classes=50,pooling='avg') \n",
        "model_d=VGG19(weights='imagenet',include_top=False, input_shape=(size, size, 3,),classes=50) \n",
        "# model_d=DenseNet121(weights='imagenet',include_top=False, input_shape=(size, size, 3,)) \n",
        "\n",
        "x=model_d.output\n",
        "\n",
        "x= GlobalAveragePooling2D()(x)\n",
        "x= BatchNormalization()(x)\n",
        "x= Dropout(0.5)(x)\n",
        "x= Dense(1024,activation='relu')(x) \n",
        "x= Dense(512,activation='relu')(x) \n",
        "x= BatchNormalization()(x)\n",
        "x= Dropout(0.5)(x)\n",
        "\n",
        "preds=Dense(len(folders),activation='softmax')(x) #FC-layer"
      ],
      "execution_count": 9,
      "outputs": [
        {
          "output_type": "stream",
          "text": [
            "Downloading data from https://storage.googleapis.com/tensorflow/keras-applications/vgg19/vgg19_weights_tf_dim_ordering_tf_kernels_notop.h5\n",
            "80142336/80134624 [==============================] - 1s 0us/step\n"
          ],
          "name": "stdout"
        }
      ]
    },
    {
      "cell_type": "code",
      "metadata": {
        "id": "-N-2005kNTIg"
      },
      "source": [
        "model = Model(inputs=model_d.input, outputs=preds)\n",
        "# model.summary()"
      ],
      "execution_count": 10,
      "outputs": []
    },
    {
      "cell_type": "code",
      "metadata": {
        "id": "ToiyvkvfNVmw"
      },
      "source": [
        "# don't train existing weights\n",
        "#for layer in model.layers:\n",
        "#    layer.trainable = False\n",
        "\n",
        "\n",
        "# for layer in model.layers[:-8]:\n",
        "#     layer.trainable=False\n",
        "    \n",
        "# for layer in model.layers[-8:]:\n",
        "#     layer.trainable=True"
      ],
      "execution_count": 11,
      "outputs": []
    },
    {
      "cell_type": "code",
      "metadata": {
        "colab": {
          "base_uri": "https://localhost:8080/"
        },
        "id": "4ngL5r7vNXjP",
        "outputId": "347ad0df-8b8d-4df6-d6dd-4545341b5042"
      },
      "source": [
        "model.compile(optimizer='Adam',loss='categorical_crossentropy',metrics=['accuracy'])\n",
        "model.summary()"
      ],
      "execution_count": 12,
      "outputs": [
        {
          "output_type": "stream",
          "text": [
            "Model: \"model\"\n",
            "_________________________________________________________________\n",
            "Layer (type)                 Output Shape              Param #   \n",
            "=================================================================\n",
            "input_1 (InputLayer)         [(None, 32, 32, 3)]       0         \n",
            "_________________________________________________________________\n",
            "block1_conv1 (Conv2D)        (None, 32, 32, 64)        1792      \n",
            "_________________________________________________________________\n",
            "block1_conv2 (Conv2D)        (None, 32, 32, 64)        36928     \n",
            "_________________________________________________________________\n",
            "block1_pool (MaxPooling2D)   (None, 16, 16, 64)        0         \n",
            "_________________________________________________________________\n",
            "block2_conv1 (Conv2D)        (None, 16, 16, 128)       73856     \n",
            "_________________________________________________________________\n",
            "block2_conv2 (Conv2D)        (None, 16, 16, 128)       147584    \n",
            "_________________________________________________________________\n",
            "block2_pool (MaxPooling2D)   (None, 8, 8, 128)         0         \n",
            "_________________________________________________________________\n",
            "block3_conv1 (Conv2D)        (None, 8, 8, 256)         295168    \n",
            "_________________________________________________________________\n",
            "block3_conv2 (Conv2D)        (None, 8, 8, 256)         590080    \n",
            "_________________________________________________________________\n",
            "block3_conv3 (Conv2D)        (None, 8, 8, 256)         590080    \n",
            "_________________________________________________________________\n",
            "block3_conv4 (Conv2D)        (None, 8, 8, 256)         590080    \n",
            "_________________________________________________________________\n",
            "block3_pool (MaxPooling2D)   (None, 4, 4, 256)         0         \n",
            "_________________________________________________________________\n",
            "block4_conv1 (Conv2D)        (None, 4, 4, 512)         1180160   \n",
            "_________________________________________________________________\n",
            "block4_conv2 (Conv2D)        (None, 4, 4, 512)         2359808   \n",
            "_________________________________________________________________\n",
            "block4_conv3 (Conv2D)        (None, 4, 4, 512)         2359808   \n",
            "_________________________________________________________________\n",
            "block4_conv4 (Conv2D)        (None, 4, 4, 512)         2359808   \n",
            "_________________________________________________________________\n",
            "block4_pool (MaxPooling2D)   (None, 2, 2, 512)         0         \n",
            "_________________________________________________________________\n",
            "block5_conv1 (Conv2D)        (None, 2, 2, 512)         2359808   \n",
            "_________________________________________________________________\n",
            "block5_conv2 (Conv2D)        (None, 2, 2, 512)         2359808   \n",
            "_________________________________________________________________\n",
            "block5_conv3 (Conv2D)        (None, 2, 2, 512)         2359808   \n",
            "_________________________________________________________________\n",
            "block5_conv4 (Conv2D)        (None, 2, 2, 512)         2359808   \n",
            "_________________________________________________________________\n",
            "block5_pool (MaxPooling2D)   (None, 1, 1, 512)         0         \n",
            "_________________________________________________________________\n",
            "global_average_pooling2d (Gl (None, 512)               0         \n",
            "_________________________________________________________________\n",
            "batch_normalization (BatchNo (None, 512)               2048      \n",
            "_________________________________________________________________\n",
            "dropout (Dropout)            (None, 512)               0         \n",
            "_________________________________________________________________\n",
            "dense (Dense)                (None, 1024)              525312    \n",
            "_________________________________________________________________\n",
            "dense_1 (Dense)              (None, 512)               524800    \n",
            "_________________________________________________________________\n",
            "batch_normalization_1 (Batch (None, 512)               2048      \n",
            "_________________________________________________________________\n",
            "dropout_1 (Dropout)          (None, 512)               0         \n",
            "_________________________________________________________________\n",
            "dense_2 (Dense)              (None, 50)                25650     \n",
            "=================================================================\n",
            "Total params: 21,104,242\n",
            "Trainable params: 21,102,194\n",
            "Non-trainable params: 2,048\n",
            "_________________________________________________________________\n"
          ],
          "name": "stdout"
        }
      ]
    },
    {
      "cell_type": "code",
      "metadata": {
        "id": "x756II4nNdpO"
      },
      "source": [
        "# Use the Image Data Generator to import the images from the dataset\n",
        "from tensorflow.keras.preprocessing.image import ImageDataGenerator\n",
        "\n",
        "anne = ReduceLROnPlateau(monitor='val_accuracy', factor=0.5, patience=5, verbose=1, min_lr=1e-3)\n",
        "checkpoint = ModelCheckpoint(model_name, verbose=1, save_best_only=True)\n",
        "\n",
        "train_datagen = ImageDataGenerator(rescale = 1./255,\n",
        "                                   shear_range = 0.2,\n",
        "                                   zoom_range = 0.2,\n",
        "                                   horizontal_flip = True)\n",
        "\n",
        "test_datagen = ImageDataGenerator(rescale = 1./255)\n"
      ],
      "execution_count": 13,
      "outputs": []
    },
    {
      "cell_type": "code",
      "metadata": {
        "id": "T9g3JudJNgOm"
      },
      "source": [
        "# Make sure you provide the same target size as initialied for the image size\n"
      ],
      "execution_count": null,
      "outputs": []
    },
    {
      "cell_type": "code",
      "metadata": {
        "colab": {
          "base_uri": "https://localhost:8080/"
        },
        "id": "cw0A-sZANiqH",
        "outputId": "4f323646-ca7b-459a-b364-143547155621"
      },
      "source": [
        "# Make sure you provide the same target size as initialied for the image size\n",
        "training_set = train_datagen.flow_from_directory(train_path,\n",
        "                                                 target_size = (size, size),\n",
        "                                                 batch_size = batch_size,\n",
        "                                                 class_mode = 'categorical')"
      ],
      "execution_count": 14,
      "outputs": [
        {
          "output_type": "stream",
          "text": [
            "Found 12062 images belonging to 50 classes.\n"
          ],
          "name": "stdout"
        }
      ]
    },
    {
      "cell_type": "code",
      "metadata": {
        "colab": {
          "base_uri": "https://localhost:8080/"
        },
        "id": "IAq8t3-gNpC2",
        "outputId": "8eef5e6a-5653-43cf-a940-4685605a2470"
      },
      "source": [
        "test_set = test_datagen.flow_from_directory(test_path,\n",
        "                                            target_size = (size, size),\n",
        "                                            batch_size = batch_size,\n",
        "                                            class_mode = 'categorical')"
      ],
      "execution_count": 15,
      "outputs": [
        {
          "output_type": "stream",
          "text": [
            "Found 3010 images belonging to 50 classes.\n"
          ],
          "name": "stdout"
        }
      ]
    },
    {
      "cell_type": "code",
      "metadata": {
        "id": "VUxHSyzONrXW",
        "colab": {
          "base_uri": "https://localhost:8080/"
        },
        "outputId": "b69183ea-1116-4239-c4d0-84db1ff337ff"
      },
      "source": [
        "# fit the model\n",
        "# Run the cell. It will take some time to execute\n",
        "r = model.fit_generator(\n",
        "  training_set,\n",
        "  validation_data=test_set,\n",
        "  epochs=100,\n",
        "  steps_per_epoch=len(training_set),\n",
        "  callbacks=[anne, checkpoint],\n",
        "  validation_steps=len(test_set)\n",
        ")"
      ],
      "execution_count": 16,
      "outputs": [
        {
          "output_type": "stream",
          "text": [
            "Epoch 1/100\n",
            "754/754 [==============================] - 4766s 6s/step - loss: 4.3199 - accuracy: 0.0411 - val_loss: 3.7444 - val_accuracy: 0.0691\n",
            "\n",
            "Epoch 00001: val_loss improved from inf to 3.74443, saving model to handwrittern bangla letter32 VGG19.h5\n",
            "Epoch 2/100\n",
            "754/754 [==============================] - 41s 55ms/step - loss: 3.7272 - accuracy: 0.0520 - val_loss: 3.2311 - val_accuracy: 0.0804\n",
            "\n",
            "Epoch 00002: val_loss improved from 3.74443 to 3.23113, saving model to handwrittern bangla letter32 VGG19.h5\n",
            "Epoch 3/100\n",
            "754/754 [==============================] - 41s 54ms/step - loss: 3.4999 - accuracy: 0.0614 - val_loss: 3.4394 - val_accuracy: 0.0618\n",
            "\n",
            "Epoch 00003: val_loss did not improve from 3.23113\n",
            "Epoch 4/100\n",
            "754/754 [==============================] - 41s 54ms/step - loss: 3.3752 - accuracy: 0.0589 - val_loss: 4.8985 - val_accuracy: 0.0226\n",
            "\n",
            "Epoch 00004: val_loss did not improve from 3.23113\n",
            "Epoch 5/100\n",
            "754/754 [==============================] - 41s 54ms/step - loss: 3.2633 - accuracy: 0.0684 - val_loss: 3.1322 - val_accuracy: 0.0698\n",
            "\n",
            "Epoch 00005: val_loss improved from 3.23113 to 3.13218, saving model to handwrittern bangla letter32 VGG19.h5\n",
            "Epoch 6/100\n",
            "754/754 [==============================] - 41s 55ms/step - loss: 3.2114 - accuracy: 0.0666 - val_loss: 3.0733 - val_accuracy: 0.0784\n",
            "\n",
            "Epoch 00006: val_loss improved from 3.13218 to 3.07329, saving model to handwrittern bangla letter32 VGG19.h5\n",
            "Epoch 7/100\n",
            "754/754 [==============================] - 41s 55ms/step - loss: 3.1387 - accuracy: 0.0733 - val_loss: 3.4625 - val_accuracy: 0.0455\n",
            "\n",
            "Epoch 00007: ReduceLROnPlateau reducing learning rate to 0.001.\n",
            "\n",
            "Epoch 00007: val_loss did not improve from 3.07329\n",
            "Epoch 8/100\n",
            "754/754 [==============================] - 42s 55ms/step - loss: 3.1091 - accuracy: 0.0700 - val_loss: 2.8369 - val_accuracy: 0.0993\n",
            "\n",
            "Epoch 00008: val_loss improved from 3.07329 to 2.83688, saving model to handwrittern bangla letter32 VGG19.h5\n",
            "Epoch 9/100\n",
            "754/754 [==============================] - 41s 55ms/step - loss: 3.0873 - accuracy: 0.0791 - val_loss: 2.8328 - val_accuracy: 0.1070\n",
            "\n",
            "Epoch 00009: val_loss improved from 2.83688 to 2.83285, saving model to handwrittern bangla letter32 VGG19.h5\n",
            "Epoch 10/100\n",
            "754/754 [==============================] - 41s 55ms/step - loss: 3.0287 - accuracy: 0.0856 - val_loss: 2.7519 - val_accuracy: 0.1073\n",
            "\n",
            "Epoch 00010: val_loss improved from 2.83285 to 2.75188, saving model to handwrittern bangla letter32 VGG19.h5\n",
            "Epoch 11/100\n",
            "754/754 [==============================] - 41s 55ms/step - loss: 2.9274 - accuracy: 0.0938 - val_loss: 2.6278 - val_accuracy: 0.1326\n",
            "\n",
            "Epoch 00011: val_loss improved from 2.75188 to 2.62783, saving model to handwrittern bangla letter32 VGG19.h5\n",
            "Epoch 12/100\n",
            "754/754 [==============================] - 41s 54ms/step - loss: 2.8544 - accuracy: 0.1056 - val_loss: 2.5664 - val_accuracy: 0.1618\n",
            "\n",
            "Epoch 00012: val_loss improved from 2.62783 to 2.56641, saving model to handwrittern bangla letter32 VGG19.h5\n",
            "Epoch 13/100\n",
            "754/754 [==============================] - 41s 54ms/step - loss: 2.7275 - accuracy: 0.1370 - val_loss: 2.2845 - val_accuracy: 0.2236\n",
            "\n",
            "Epoch 00013: val_loss improved from 2.56641 to 2.28450, saving model to handwrittern bangla letter32 VGG19.h5\n",
            "Epoch 14/100\n",
            "754/754 [==============================] - 41s 54ms/step - loss: 2.4743 - accuracy: 0.1921 - val_loss: 2.3390 - val_accuracy: 0.2179\n",
            "\n",
            "Epoch 00014: val_loss did not improve from 2.28450\n",
            "Epoch 15/100\n",
            "754/754 [==============================] - 41s 54ms/step - loss: 2.3141 - accuracy: 0.2174 - val_loss: 2.0781 - val_accuracy: 0.2648\n",
            "\n",
            "Epoch 00015: val_loss improved from 2.28450 to 2.07807, saving model to handwrittern bangla letter32 VGG19.h5\n",
            "Epoch 16/100\n",
            "754/754 [==============================] - 41s 54ms/step - loss: 2.1897 - accuracy: 0.2432 - val_loss: 1.8000 - val_accuracy: 0.3635\n",
            "\n",
            "Epoch 00016: val_loss improved from 2.07807 to 1.79996, saving model to handwrittern bangla letter32 VGG19.h5\n",
            "Epoch 17/100\n",
            "754/754 [==============================] - 41s 54ms/step - loss: 2.0636 - accuracy: 0.2796 - val_loss: 2.3366 - val_accuracy: 0.1804\n",
            "\n",
            "Epoch 00017: val_loss did not improve from 1.79996\n",
            "Epoch 18/100\n",
            "754/754 [==============================] - 41s 54ms/step - loss: 1.9821 - accuracy: 0.2924 - val_loss: 1.6578 - val_accuracy: 0.3870\n",
            "\n",
            "Epoch 00018: val_loss improved from 1.79996 to 1.65776, saving model to handwrittern bangla letter32 VGG19.h5\n",
            "Epoch 19/100\n",
            "754/754 [==============================] - 40s 54ms/step - loss: 1.8849 - accuracy: 0.3204 - val_loss: 2.0439 - val_accuracy: 0.2728\n",
            "\n",
            "Epoch 00019: val_loss did not improve from 1.65776\n",
            "Epoch 20/100\n",
            "754/754 [==============================] - 41s 54ms/step - loss: 1.7996 - accuracy: 0.3526 - val_loss: 1.4573 - val_accuracy: 0.4522\n",
            "\n",
            "Epoch 00020: val_loss improved from 1.65776 to 1.45726, saving model to handwrittern bangla letter32 VGG19.h5\n",
            "Epoch 21/100\n",
            "754/754 [==============================] - 41s 54ms/step - loss: 1.7070 - accuracy: 0.3797 - val_loss: 1.3678 - val_accuracy: 0.5063\n",
            "\n",
            "Epoch 00021: val_loss improved from 1.45726 to 1.36782, saving model to handwrittern bangla letter32 VGG19.h5\n",
            "Epoch 22/100\n",
            "754/754 [==============================] - 41s 54ms/step - loss: 1.7063 - accuracy: 0.3754 - val_loss: 1.6265 - val_accuracy: 0.4100\n",
            "\n",
            "Epoch 00022: val_loss did not improve from 1.36782\n",
            "Epoch 23/100\n",
            "754/754 [==============================] - 41s 55ms/step - loss: 1.6411 - accuracy: 0.3981 - val_loss: 1.1812 - val_accuracy: 0.5927\n",
            "\n",
            "Epoch 00023: val_loss improved from 1.36782 to 1.18119, saving model to handwrittern bangla letter32 VGG19.h5\n",
            "Epoch 24/100\n",
            "754/754 [==============================] - 41s 54ms/step - loss: 1.5552 - accuracy: 0.4334 - val_loss: 1.3868 - val_accuracy: 0.4944\n",
            "\n",
            "Epoch 00024: val_loss did not improve from 1.18119\n",
            "Epoch 25/100\n",
            "754/754 [==============================] - 41s 54ms/step - loss: 1.5170 - accuracy: 0.4538 - val_loss: 1.1756 - val_accuracy: 0.5867\n",
            "\n",
            "Epoch 00025: val_loss improved from 1.18119 to 1.17560, saving model to handwrittern bangla letter32 VGG19.h5\n",
            "Epoch 26/100\n",
            "754/754 [==============================] - 41s 54ms/step - loss: 1.4273 - accuracy: 0.4810 - val_loss: 1.2084 - val_accuracy: 0.5458\n",
            "\n",
            "Epoch 00026: val_loss did not improve from 1.17560\n",
            "Epoch 27/100\n",
            "754/754 [==============================] - 41s 54ms/step - loss: 1.3542 - accuracy: 0.5098 - val_loss: 1.6411 - val_accuracy: 0.5020\n",
            "\n",
            "Epoch 00027: val_loss did not improve from 1.17560\n",
            "Epoch 28/100\n",
            "754/754 [==============================] - 41s 54ms/step - loss: 1.2967 - accuracy: 0.5412 - val_loss: 1.1499 - val_accuracy: 0.6176\n",
            "\n",
            "Epoch 00028: val_loss improved from 1.17560 to 1.14991, saving model to handwrittern bangla letter32 VGG19.h5\n",
            "Epoch 29/100\n",
            "754/754 [==============================] - 41s 54ms/step - loss: 1.2907 - accuracy: 0.5424 - val_loss: 0.9240 - val_accuracy: 0.7040\n",
            "\n",
            "Epoch 00029: val_loss improved from 1.14991 to 0.92399, saving model to handwrittern bangla letter32 VGG19.h5\n",
            "Epoch 30/100\n",
            "754/754 [==============================] - 41s 54ms/step - loss: 1.1810 - accuracy: 0.5728 - val_loss: 0.8821 - val_accuracy: 0.7053\n",
            "\n",
            "Epoch 00030: val_loss improved from 0.92399 to 0.88215, saving model to handwrittern bangla letter32 VGG19.h5\n",
            "Epoch 31/100\n",
            "754/754 [==============================] - 41s 54ms/step - loss: 1.1868 - accuracy: 0.5817 - val_loss: 0.9582 - val_accuracy: 0.6581\n",
            "\n",
            "Epoch 00031: val_loss did not improve from 0.88215\n",
            "Epoch 32/100\n",
            "754/754 [==============================] - 41s 54ms/step - loss: 1.1318 - accuracy: 0.6073 - val_loss: 0.8828 - val_accuracy: 0.6841\n",
            "\n",
            "Epoch 00032: val_loss did not improve from 0.88215\n",
            "Epoch 33/100\n",
            "754/754 [==============================] - 42s 55ms/step - loss: 1.0584 - accuracy: 0.6221 - val_loss: 1.0081 - val_accuracy: 0.6591\n",
            "\n",
            "Epoch 00033: val_loss did not improve from 0.88215\n",
            "Epoch 34/100\n",
            "754/754 [==============================] - 42s 56ms/step - loss: 1.0700 - accuracy: 0.6299 - val_loss: 0.7836 - val_accuracy: 0.7369\n",
            "\n",
            "Epoch 00034: val_loss improved from 0.88215 to 0.78356, saving model to handwrittern bangla letter32 VGG19.h5\n",
            "Epoch 35/100\n",
            "754/754 [==============================] - 41s 54ms/step - loss: 1.0401 - accuracy: 0.6441 - val_loss: 0.6559 - val_accuracy: 0.7983\n",
            "\n",
            "Epoch 00035: val_loss improved from 0.78356 to 0.65586, saving model to handwrittern bangla letter32 VGG19.h5\n",
            "Epoch 36/100\n",
            "754/754 [==============================] - 41s 54ms/step - loss: 0.9779 - accuracy: 0.6687 - val_loss: 0.6257 - val_accuracy: 0.7890\n",
            "\n",
            "Epoch 00036: val_loss improved from 0.65586 to 0.62574, saving model to handwrittern bangla letter32 VGG19.h5\n",
            "Epoch 37/100\n",
            "754/754 [==============================] - 41s 54ms/step - loss: 0.8708 - accuracy: 0.6987 - val_loss: 42217356.0000 - val_accuracy: 0.7498\n",
            "\n",
            "Epoch 00037: val_loss did not improve from 0.62574\n",
            "Epoch 38/100\n",
            "754/754 [==============================] - 41s 54ms/step - loss: 0.9367 - accuracy: 0.6743 - val_loss: 0.9746 - val_accuracy: 0.6595\n",
            "\n",
            "Epoch 00038: val_loss did not improve from 0.62574\n",
            "Epoch 39/100\n",
            "754/754 [==============================] - 41s 55ms/step - loss: 0.9378 - accuracy: 0.6785 - val_loss: 1.1126 - val_accuracy: 0.7339\n",
            "\n",
            "Epoch 00039: val_loss did not improve from 0.62574\n",
            "Epoch 40/100\n",
            "754/754 [==============================] - 41s 55ms/step - loss: 0.8751 - accuracy: 0.7147 - val_loss: 0.7171 - val_accuracy: 0.7953\n",
            "\n",
            "Epoch 00040: ReduceLROnPlateau reducing learning rate to 0.001.\n",
            "\n",
            "Epoch 00040: val_loss did not improve from 0.62574\n",
            "Epoch 41/100\n",
            "754/754 [==============================] - 41s 54ms/step - loss: 0.8014 - accuracy: 0.7322 - val_loss: 0.6721 - val_accuracy: 0.7990\n",
            "\n",
            "Epoch 00041: val_loss did not improve from 0.62574\n",
            "Epoch 42/100\n",
            "754/754 [==============================] - 41s 54ms/step - loss: 0.7234 - accuracy: 0.7626 - val_loss: 0.6424 - val_accuracy: 0.8027\n",
            "\n",
            "Epoch 00042: val_loss did not improve from 0.62574\n",
            "Epoch 43/100\n",
            "754/754 [==============================] - 41s 55ms/step - loss: 0.7004 - accuracy: 0.7686 - val_loss: 404660032.0000 - val_accuracy: 0.8482\n",
            "\n",
            "Epoch 00043: val_loss did not improve from 0.62574\n",
            "Epoch 44/100\n",
            "754/754 [==============================] - 42s 56ms/step - loss: 0.6063 - accuracy: 0.8012 - val_loss: 0.5310 - val_accuracy: 0.8362\n",
            "\n",
            "Epoch 00044: val_loss improved from 0.62574 to 0.53101, saving model to handwrittern bangla letter32 VGG19.h5\n",
            "Epoch 45/100\n",
            "754/754 [==============================] - 41s 55ms/step - loss: 0.6234 - accuracy: 0.8092 - val_loss: 1.3221 - val_accuracy: 0.6821\n",
            "\n",
            "Epoch 00045: val_loss did not improve from 0.53101\n",
            "Epoch 46/100\n",
            "754/754 [==============================] - 41s 54ms/step - loss: 0.7212 - accuracy: 0.7844 - val_loss: 0.4524 - val_accuracy: 0.8691\n",
            "\n",
            "Epoch 00046: val_loss improved from 0.53101 to 0.45243, saving model to handwrittern bangla letter32 VGG19.h5\n",
            "Epoch 47/100\n",
            "754/754 [==============================] - 41s 54ms/step - loss: 0.5749 - accuracy: 0.8258 - val_loss: 7545852416.0000 - val_accuracy: 0.8867\n",
            "\n",
            "Epoch 00047: val_loss did not improve from 0.45243\n",
            "Epoch 48/100\n",
            "754/754 [==============================] - 41s 55ms/step - loss: 0.5419 - accuracy: 0.8337 - val_loss: 0.4180 - val_accuracy: 0.8834\n",
            "\n",
            "Epoch 00048: val_loss improved from 0.45243 to 0.41802, saving model to handwrittern bangla letter32 VGG19.h5\n",
            "Epoch 49/100\n",
            "754/754 [==============================] - 42s 55ms/step - loss: 0.5018 - accuracy: 0.8424 - val_loss: 0.2999 - val_accuracy: 0.9252\n",
            "\n",
            "Epoch 00049: val_loss improved from 0.41802 to 0.29990, saving model to handwrittern bangla letter32 VGG19.h5\n",
            "Epoch 50/100\n",
            "754/754 [==============================] - 42s 55ms/step - loss: 0.4776 - accuracy: 0.8585 - val_loss: 0.3911 - val_accuracy: 0.9003\n",
            "\n",
            "Epoch 00050: val_loss did not improve from 0.29990\n",
            "Epoch 51/100\n",
            "754/754 [==============================] - 42s 55ms/step - loss: 0.4472 - accuracy: 0.8743 - val_loss: 0.3336 - val_accuracy: 0.9096\n",
            "\n",
            "Epoch 00051: val_loss did not improve from 0.29990\n",
            "Epoch 52/100\n",
            "754/754 [==============================] - 41s 55ms/step - loss: 0.4013 - accuracy: 0.8832 - val_loss: 1.1835 - val_accuracy: 0.7465\n",
            "\n",
            "Epoch 00052: val_loss did not improve from 0.29990\n",
            "Epoch 53/100\n",
            "754/754 [==============================] - 42s 55ms/step - loss: 0.4943 - accuracy: 0.8620 - val_loss: 0.3260 - val_accuracy: 0.9173\n",
            "\n",
            "Epoch 00053: val_loss did not improve from 0.29990\n",
            "Epoch 54/100\n",
            "754/754 [==============================] - 42s 56ms/step - loss: 0.4103 - accuracy: 0.8864 - val_loss: 0.3637 - val_accuracy: 0.9080\n",
            "\n",
            "Epoch 00054: ReduceLROnPlateau reducing learning rate to 0.001.\n",
            "\n",
            "Epoch 00054: val_loss did not improve from 0.29990\n",
            "Epoch 55/100\n",
            "754/754 [==============================] - 41s 55ms/step - loss: 0.3525 - accuracy: 0.8998 - val_loss: 0.3486 - val_accuracy: 0.9096\n",
            "\n",
            "Epoch 00055: val_loss did not improve from 0.29990\n",
            "Epoch 56/100\n",
            "754/754 [==============================] - 41s 54ms/step - loss: 0.4097 - accuracy: 0.8917 - val_loss: 0.2914 - val_accuracy: 0.9209\n",
            "\n",
            "Epoch 00056: val_loss improved from 0.29990 to 0.29144, saving model to handwrittern bangla letter32 VGG19.h5\n",
            "Epoch 57/100\n",
            "754/754 [==============================] - 41s 55ms/step - loss: 0.3027 - accuracy: 0.9156 - val_loss: 0.3159 - val_accuracy: 0.9236\n",
            "\n",
            "Epoch 00057: val_loss did not improve from 0.29144\n",
            "Epoch 58/100\n",
            "754/754 [==============================] - 41s 55ms/step - loss: 0.3128 - accuracy: 0.9121 - val_loss: 0.2398 - val_accuracy: 0.9405\n",
            "\n",
            "Epoch 00058: val_loss improved from 0.29144 to 0.23981, saving model to handwrittern bangla letter32 VGG19.h5\n",
            "Epoch 59/100\n",
            "754/754 [==============================] - 41s 55ms/step - loss: 0.3087 - accuracy: 0.9138 - val_loss: 0.2350 - val_accuracy: 0.9415\n",
            "\n",
            "Epoch 00059: val_loss improved from 0.23981 to 0.23496, saving model to handwrittern bangla letter32 VGG19.h5\n",
            "Epoch 60/100\n",
            "754/754 [==============================] - 41s 55ms/step - loss: 0.3393 - accuracy: 0.9123 - val_loss: 0.2203 - val_accuracy: 0.9515\n",
            "\n",
            "Epoch 00060: val_loss improved from 0.23496 to 0.22033, saving model to handwrittern bangla letter32 VGG19.h5\n",
            "Epoch 61/100\n",
            "754/754 [==============================] - 41s 55ms/step - loss: 0.3507 - accuracy: 0.9154 - val_loss: 0.3031 - val_accuracy: 0.9312\n",
            "\n",
            "Epoch 00061: val_loss did not improve from 0.22033\n",
            "Epoch 62/100\n",
            "754/754 [==============================] - 41s 55ms/step - loss: 0.2739 - accuracy: 0.9325 - val_loss: 0.2264 - val_accuracy: 0.9472\n",
            "\n",
            "Epoch 00062: val_loss did not improve from 0.22033\n",
            "Epoch 63/100\n",
            "754/754 [==============================] - 41s 55ms/step - loss: 0.2448 - accuracy: 0.9346 - val_loss: 0.3200 - val_accuracy: 0.9233\n",
            "\n",
            "Epoch 00063: val_loss did not improve from 0.22033\n",
            "Epoch 64/100\n",
            "754/754 [==============================] - 41s 55ms/step - loss: 0.2819 - accuracy: 0.9282 - val_loss: 0.2757 - val_accuracy: 0.9385\n",
            "\n",
            "Epoch 00064: val_loss did not improve from 0.22033\n",
            "Epoch 65/100\n",
            "754/754 [==============================] - 42s 55ms/step - loss: 0.2657 - accuracy: 0.9287 - val_loss: 263493484544.0000 - val_accuracy: 0.9488\n",
            "\n",
            "Epoch 00065: ReduceLROnPlateau reducing learning rate to 0.001.\n",
            "\n",
            "Epoch 00065: val_loss did not improve from 0.22033\n",
            "Epoch 66/100\n",
            "754/754 [==============================] - 42s 56ms/step - loss: 0.2414 - accuracy: 0.9393 - val_loss: 0.2259 - val_accuracy: 0.9495\n",
            "\n",
            "Epoch 00066: val_loss did not improve from 0.22033\n",
            "Epoch 67/100\n",
            "754/754 [==============================] - 41s 55ms/step - loss: 0.2145 - accuracy: 0.9429 - val_loss: 0.3219 - val_accuracy: 0.9322\n",
            "\n",
            "Epoch 00067: val_loss did not improve from 0.22033\n",
            "Epoch 68/100\n",
            "754/754 [==============================] - 41s 55ms/step - loss: 0.2243 - accuracy: 0.9425 - val_loss: 2.1234 - val_accuracy: 0.9425\n",
            "\n",
            "Epoch 00068: val_loss did not improve from 0.22033\n",
            "Epoch 69/100\n",
            "754/754 [==============================] - 41s 55ms/step - loss: 0.2420 - accuracy: 0.9379 - val_loss: 0.2127 - val_accuracy: 0.9538\n",
            "\n",
            "Epoch 00069: val_loss improved from 0.22033 to 0.21268, saving model to handwrittern bangla letter32 VGG19.h5\n",
            "Epoch 70/100\n",
            "754/754 [==============================] - 41s 55ms/step - loss: 0.2378 - accuracy: 0.9434 - val_loss: 0.2225 - val_accuracy: 0.9505\n",
            "\n",
            "Epoch 00070: val_loss did not improve from 0.21268\n",
            "Epoch 71/100\n",
            "754/754 [==============================] - 41s 55ms/step - loss: 0.2254 - accuracy: 0.9446 - val_loss: 0.2247 - val_accuracy: 0.9475\n",
            "\n",
            "Epoch 00071: val_loss did not improve from 0.21268\n",
            "Epoch 72/100\n",
            "754/754 [==============================] - 41s 55ms/step - loss: 0.2246 - accuracy: 0.9428 - val_loss: 0.3253 - val_accuracy: 0.9365\n",
            "\n",
            "Epoch 00072: val_loss did not improve from 0.21268\n",
            "Epoch 73/100\n",
            "754/754 [==============================] - 41s 55ms/step - loss: 0.2304 - accuracy: 0.9420 - val_loss: 0.2949 - val_accuracy: 0.9326\n",
            "\n",
            "Epoch 00073: val_loss did not improve from 0.21268\n",
            "Epoch 74/100\n",
            "754/754 [==============================] - 41s 55ms/step - loss: 0.2462 - accuracy: 0.9386 - val_loss: 0.1867 - val_accuracy: 0.9588\n",
            "\n",
            "Epoch 00074: val_loss improved from 0.21268 to 0.18666, saving model to handwrittern bangla letter32 VGG19.h5\n",
            "Epoch 75/100\n",
            "754/754 [==============================] - 41s 55ms/step - loss: 0.1803 - accuracy: 0.9563 - val_loss: 0.2170 - val_accuracy: 0.9508\n",
            "\n",
            "Epoch 00075: val_loss did not improve from 0.18666\n",
            "Epoch 76/100\n",
            "754/754 [==============================] - 41s 55ms/step - loss: 0.2483 - accuracy: 0.9418 - val_loss: 0.2181 - val_accuracy: 0.9558\n",
            "\n",
            "Epoch 00076: val_loss did not improve from 0.18666\n",
            "Epoch 77/100\n",
            "754/754 [==============================] - 42s 55ms/step - loss: 0.1752 - accuracy: 0.9599 - val_loss: 0.2023 - val_accuracy: 0.9545\n",
            "\n",
            "Epoch 00077: val_loss did not improve from 0.18666\n",
            "Epoch 78/100\n",
            "754/754 [==============================] - 41s 55ms/step - loss: 0.1982 - accuracy: 0.9528 - val_loss: 0.1828 - val_accuracy: 0.9598\n",
            "\n",
            "Epoch 00078: val_loss improved from 0.18666 to 0.18279, saving model to handwrittern bangla letter32 VGG19.h5\n",
            "Epoch 79/100\n",
            "754/754 [==============================] - 41s 55ms/step - loss: 0.1884 - accuracy: 0.9547 - val_loss: 0.2692 - val_accuracy: 0.9419\n",
            "\n",
            "Epoch 00079: val_loss did not improve from 0.18279\n",
            "Epoch 80/100\n",
            "754/754 [==============================] - 42s 55ms/step - loss: 0.2104 - accuracy: 0.9503 - val_loss: 0.2352 - val_accuracy: 0.9482\n",
            "\n",
            "Epoch 00080: val_loss did not improve from 0.18279\n",
            "Epoch 81/100\n",
            "754/754 [==============================] - 42s 55ms/step - loss: 0.1794 - accuracy: 0.9566 - val_loss: 0.1659 - val_accuracy: 0.9598\n",
            "\n",
            "Epoch 00081: val_loss improved from 0.18279 to 0.16594, saving model to handwrittern bangla letter32 VGG19.h5\n",
            "Epoch 82/100\n",
            "754/754 [==============================] - 41s 55ms/step - loss: 0.1690 - accuracy: 0.9616 - val_loss: 312057216.0000 - val_accuracy: 0.9369\n",
            "\n",
            "Epoch 00082: val_loss did not improve from 0.16594\n",
            "Epoch 83/100\n",
            "754/754 [==============================] - 41s 55ms/step - loss: 0.2060 - accuracy: 0.9515 - val_loss: 0.3641 - val_accuracy: 0.9199\n",
            "\n",
            "Epoch 00083: ReduceLROnPlateau reducing learning rate to 0.001.\n",
            "\n",
            "Epoch 00083: val_loss did not improve from 0.16594\n",
            "Epoch 84/100\n",
            "754/754 [==============================] - 41s 55ms/step - loss: 0.1775 - accuracy: 0.9594 - val_loss: 0.2183 - val_accuracy: 0.9581\n",
            "\n",
            "Epoch 00084: val_loss did not improve from 0.16594\n",
            "Epoch 85/100\n",
            "754/754 [==============================] - 41s 55ms/step - loss: 0.1618 - accuracy: 0.9587 - val_loss: 0.2380 - val_accuracy: 0.9492\n",
            "\n",
            "Epoch 00085: val_loss did not improve from 0.16594\n",
            "Epoch 86/100\n",
            "754/754 [==============================] - 41s 55ms/step - loss: 0.1737 - accuracy: 0.9594 - val_loss: 0.2925 - val_accuracy: 0.9452\n",
            "\n",
            "Epoch 00086: val_loss did not improve from 0.16594\n",
            "Epoch 87/100\n",
            "754/754 [==============================] - 41s 55ms/step - loss: 0.1597 - accuracy: 0.9624 - val_loss: 0.1977 - val_accuracy: 0.9585\n",
            "\n",
            "Epoch 00087: val_loss did not improve from 0.16594\n",
            "Epoch 88/100\n",
            "754/754 [==============================] - 41s 55ms/step - loss: 0.2335 - accuracy: 0.9516 - val_loss: 3344603392.0000 - val_accuracy: 0.9542\n",
            "\n",
            "Epoch 00088: ReduceLROnPlateau reducing learning rate to 0.001.\n",
            "\n",
            "Epoch 00088: val_loss did not improve from 0.16594\n",
            "Epoch 89/100\n",
            "754/754 [==============================] - 41s 55ms/step - loss: 0.1523 - accuracy: 0.9648 - val_loss: 35405692928.0000 - val_accuracy: 0.9545\n",
            "\n",
            "Epoch 00089: val_loss did not improve from 0.16594\n",
            "Epoch 90/100\n",
            "754/754 [==============================] - 41s 55ms/step - loss: 0.1689 - accuracy: 0.9642 - val_loss: 0.1992 - val_accuracy: 0.9638\n",
            "\n",
            "Epoch 00090: val_loss did not improve from 0.16594\n",
            "Epoch 91/100\n",
            "754/754 [==============================] - 41s 55ms/step - loss: 0.1287 - accuracy: 0.9705 - val_loss: 0.2142 - val_accuracy: 0.9588\n",
            "\n",
            "Epoch 00091: val_loss did not improve from 0.16594\n",
            "Epoch 92/100\n",
            "754/754 [==============================] - 41s 55ms/step - loss: 0.1486 - accuracy: 0.9661 - val_loss: 0.1921 - val_accuracy: 0.9618\n",
            "\n",
            "Epoch 00092: val_loss did not improve from 0.16594\n",
            "Epoch 93/100\n",
            "754/754 [==============================] - 41s 55ms/step - loss: 0.1495 - accuracy: 0.9673 - val_loss: 0.2790 - val_accuracy: 0.9498\n",
            "\n",
            "Epoch 00093: val_loss did not improve from 0.16594\n",
            "Epoch 94/100\n",
            "754/754 [==============================] - 42s 55ms/step - loss: 0.1883 - accuracy: 0.9571 - val_loss: 0.4365 - val_accuracy: 0.9292\n",
            "\n",
            "Epoch 00094: val_loss did not improve from 0.16594\n",
            "Epoch 95/100\n",
            "754/754 [==============================] - 41s 55ms/step - loss: 0.2110 - accuracy: 0.9590 - val_loss: 0.1941 - val_accuracy: 0.9661\n",
            "\n",
            "Epoch 00095: val_loss did not improve from 0.16594\n",
            "Epoch 96/100\n",
            "754/754 [==============================] - 42s 55ms/step - loss: 0.1339 - accuracy: 0.9701 - val_loss: 0.1550 - val_accuracy: 0.9684\n",
            "\n",
            "Epoch 00096: val_loss improved from 0.16594 to 0.15503, saving model to handwrittern bangla letter32 VGG19.h5\n",
            "Epoch 97/100\n",
            "754/754 [==============================] - 41s 55ms/step - loss: 0.1615 - accuracy: 0.9651 - val_loss: 0.2315 - val_accuracy: 0.9591\n",
            "\n",
            "Epoch 00097: val_loss did not improve from 0.15503\n",
            "Epoch 98/100\n",
            "754/754 [==============================] - 42s 55ms/step - loss: 0.2206 - accuracy: 0.9505 - val_loss: 0.2256 - val_accuracy: 0.9512\n",
            "\n",
            "Epoch 00098: val_loss did not improve from 0.15503\n",
            "Epoch 99/100\n",
            "754/754 [==============================] - 41s 55ms/step - loss: 0.1413 - accuracy: 0.9679 - val_loss: 0.1589 - val_accuracy: 0.9688\n",
            "\n",
            "Epoch 00099: val_loss did not improve from 0.15503\n",
            "Epoch 100/100\n",
            "754/754 [==============================] - 41s 55ms/step - loss: 0.3546 - accuracy: 0.9202 - val_loss: 0.1866 - val_accuracy: 0.9588\n",
            "\n",
            "Epoch 00100: val_loss did not improve from 0.15503\n"
          ],
          "name": "stdout"
        }
      ]
    },
    {
      "cell_type": "code",
      "metadata": {
        "id": "6V7-DESpNtqo",
        "colab": {
          "base_uri": "https://localhost:8080/",
          "height": 542
        },
        "outputId": "e26b4e7e-e522-4b7e-a962-69b1ca8bedc6"
      },
      "source": [
        "import matplotlib.pyplot as plt\n",
        "# plot the loss\n",
        "plt.plot(r.history['loss'], label='train loss')\n",
        "plt.plot(r.history['val_loss'], label='val loss')\n",
        "plt.legend()\n",
        "plt.show()\n",
        "plt.savefig('LossVal_loss')\n",
        "\n",
        "# plot the accuracy\n",
        "plt.plot(r.history['accuracy'], label='train acc')\n",
        "plt.plot(r.history['val_accuracy'], label='val acc')\n",
        "plt.legend()\n",
        "plt.show()\n",
        "plt.savefig('AccVal_acc')"
      ],
      "execution_count": 17,
      "outputs": [
        {
          "output_type": "display_data",
          "data": {
            "image/png": "[encoded data removed]",
            "text/plain": [
              "<Figure size 432x288 with 1 Axes>"
            ]
          },
          "metadata": {
            "tags": [],
            "needs_background": "light"
          }
        },
        {
          "output_type": "display_data",
          "data": {
            "image/png": "[encoded data removed]",
            "text/plain": [
              "<Figure size 432x288 with 1 Axes>"
            ]
          },
          "metadata": {
            "tags": [],
            "needs_background": "light"
          }
        },
        {
          "output_type": "display_data",
          "data": {
            "text/plain": [
              "<Figure size 432x288 with 0 Axes>"
            ]
          },
          "metadata": {
            "tags": []
          }
        }
      ]
    },
    {
      "cell_type": "code",
      "metadata": {
        "id": "Z_7OskZ4NyQY"
      },
      "source": [
        "# save it as a h5 file\n",
        "from tensorflow.keras.models import load_model\n",
        "\n",
        "model.save(model_name)"
      ],
      "execution_count": 18,
      "outputs": []
    },
    {
      "cell_type": "code",
      "metadata": {
        "id": "5AMXGQGxN1Ov",
        "colab": {
          "base_uri": "https://localhost:8080/"
        },
        "outputId": "bce66f07-47db-4834-f8e5-10b46633e3b6"
      },
      "source": [
        "y_pred = model.predict(test_set)\n",
        "y_pred"
      ],
      "execution_count": 19,
      "outputs": [
        {
          "output_type": "execute_result",
          "data": {
            "text/plain": [
              "array([[3.5341060e-08, 1.5028903e-08, 7.3023692e-08, ..., 3.8949533e-08,\n",
              "        6.2852785e-09, 9.0768239e-08],\n",
              "       [1.9231589e-10, 5.9397665e-10, 3.8036791e-09, ..., 5.7628782e-09,\n",
              "        3.4992428e-10, 1.9452850e-08],\n",
              "       [3.0454366e-09, 2.6903555e-07, 3.1465140e-11, ..., 1.9332266e-08,\n",
              "        1.9601053e-07, 3.4351988e-08],\n",
              "       ...,\n",
              "       [1.8070195e-07, 1.0602632e-06, 3.0750164e-07, ..., 4.1448957e-06,\n",
              "        1.6340894e-06, 2.3979335e-05],\n",
              "       [1.8313179e-07, 2.7889675e-08, 5.5565945e-08, ..., 4.6207265e-07,\n",
              "        3.8136250e-07, 1.2906895e-07],\n",
              "       [7.4858754e-06, 4.2295176e-07, 1.6654883e-05, ..., 8.9899497e-04,\n",
              "        1.2763173e-04, 6.3485709e-06]], dtype=float32)"
            ]
          },
          "metadata": {
            "tags": []
          },
          "execution_count": 19
        }
      ]
    },
    {
      "cell_type": "code",
      "metadata": {
        "id": "XTyRTS7WN2-S",
        "colab": {
          "base_uri": "https://localhost:8080/"
        },
        "outputId": "5f9fb5ba-2df6-44ad-b312-b25d1163fc21"
      },
      "source": [
        "from tensorflow.keras.models import load_model\n",
        "from tensorflow.keras.preprocessing import image\n",
        "\n",
        "model=load_model(model_name)\n",
        "new_model = tf.keras.models.load_model(model_name)\n",
        "\n",
        "# Check its architecture\n",
        "new_model.summary()\n"
      ],
      "execution_count": 20,
      "outputs": [
        {
          "output_type": "stream",
          "text": [
            "Model: \"model\"\n",
            "_________________________________________________________________\n",
            "Layer (type)                 Output Shape              Param #   \n",
            "=================================================================\n",
            "input_1 (InputLayer)         [(None, 32, 32, 3)]       0         \n",
            "_________________________________________________________________\n",
            "block1_conv1 (Conv2D)        (None, 32, 32, 64)        1792      \n",
            "_________________________________________________________________\n",
            "block1_conv2 (Conv2D)        (None, 32, 32, 64)        36928     \n",
            "_________________________________________________________________\n",
            "block1_pool (MaxPooling2D)   (None, 16, 16, 64)        0         \n",
            "_________________________________________________________________\n",
            "block2_conv1 (Conv2D)        (None, 16, 16, 128)       73856     \n",
            "_________________________________________________________________\n",
            "block2_conv2 (Conv2D)        (None, 16, 16, 128)       147584    \n",
            "_________________________________________________________________\n",
            "block2_pool (MaxPooling2D)   (None, 8, 8, 128)         0         \n",
            "_________________________________________________________________\n",
            "block3_conv1 (Conv2D)        (None, 8, 8, 256)         295168    \n",
            "_________________________________________________________________\n",
            "block3_conv2 (Conv2D)        (None, 8, 8, 256)         590080    \n",
            "_________________________________________________________________\n",
            "block3_conv3 (Conv2D)        (None, 8, 8, 256)         590080    \n",
            "_________________________________________________________________\n",
            "block3_conv4 (Conv2D)        (None, 8, 8, 256)         590080    \n",
            "_________________________________________________________________\n",
            "block3_pool (MaxPooling2D)   (None, 4, 4, 256)         0         \n",
            "_________________________________________________________________\n",
            "block4_conv1 (Conv2D)        (None, 4, 4, 512)         1180160   \n",
            "_________________________________________________________________\n",
            "block4_conv2 (Conv2D)        (None, 4, 4, 512)         2359808   \n",
            "_________________________________________________________________\n",
            "block4_conv3 (Conv2D)        (None, 4, 4, 512)         2359808   \n",
            "_________________________________________________________________\n",
            "block4_conv4 (Conv2D)        (None, 4, 4, 512)         2359808   \n",
            "_________________________________________________________________\n",
            "block4_pool (MaxPooling2D)   (None, 2, 2, 512)         0         \n",
            "_________________________________________________________________\n",
            "block5_conv1 (Conv2D)        (None, 2, 2, 512)         2359808   \n",
            "_________________________________________________________________\n",
            "block5_conv2 (Conv2D)        (None, 2, 2, 512)         2359808   \n",
            "_________________________________________________________________\n",
            "block5_conv3 (Conv2D)        (None, 2, 2, 512)         2359808   \n",
            "_________________________________________________________________\n",
            "block5_conv4 (Conv2D)        (None, 2, 2, 512)         2359808   \n",
            "_________________________________________________________________\n",
            "block5_pool (MaxPooling2D)   (None, 1, 1, 512)         0         \n",
            "_________________________________________________________________\n",
            "global_average_pooling2d (Gl (None, 512)               0         \n",
            "_________________________________________________________________\n",
            "batch_normalization (BatchNo (None, 512)               2048      \n",
            "_________________________________________________________________\n",
            "dropout (Dropout)            (None, 512)               0         \n",
            "_________________________________________________________________\n",
            "dense (Dense)                (None, 1024)              525312    \n",
            "_________________________________________________________________\n",
            "dense_1 (Dense)              (None, 512)               524800    \n",
            "_________________________________________________________________\n",
            "batch_normalization_1 (Batch (None, 512)               2048      \n",
            "_________________________________________________________________\n",
            "dropout_1 (Dropout)          (None, 512)               0         \n",
            "_________________________________________________________________\n",
            "dense_2 (Dense)              (None, 50)                25650     \n",
            "=================================================================\n",
            "Total params: 21,104,242\n",
            "Trainable params: 21,102,194\n",
            "Non-trainable params: 2,048\n",
            "_________________________________________________________________\n"
          ],
          "name": "stdout"
        }
      ]
    },
    {
      "cell_type": "code",
      "metadata": {
        "id": "4ky1cirsN5Pf",
        "colab": {
          "base_uri": "https://localhost:8080/"
        },
        "outputId": "10f15992-0eae-4aac-9695-ad68712c3ec4"
      },
      "source": [
        "loss, acc = new_model.evaluate(test_set, verbose=2)\n",
        "print('Restored model, accuracy: {:5.2f}%'.format(100 * acc))"
      ],
      "execution_count": 21,
      "outputs": [
        {
          "output_type": "stream",
          "text": [
            "189/189 - 4s - loss: 0.1866 - accuracy: 0.9588\n",
            "Restored model, accuracy: 95.88%\n"
          ],
          "name": "stdout"
        }
      ]
    },
    {
      "cell_type": "code",
      "metadata": {
        "id": "R0XucSvs-pfw",
        "colab": {
          "base_uri": "https://localhost:8080/",
          "height": 34
        },
        "outputId": "d1dda225-4ef0-457f-8564-174f566918d7"
      },
      "source": [
        "from google.colab import files\n",
        "import pandas as pd\n",
        "files.download('/content/handwrittern bangla letter32 VGG19.h5')"
      ],
      "execution_count": 22,
      "outputs": [
        {
          "output_type": "display_data",
          "data": {
            "application/javascript": [
              "\n",
              "    async function download(id, filename, size) {\n",
              "      if (!google.colab.kernel.accessAllowed) {\n",
              "        return;\n",
              "      }\n",
              "      const div = document.createElement('div');\n",
              "      const label = document.createElement('label');\n",
              "      label.textContent = `Downloading \"${filename}\": `;\n",
              "      div.appendChild(label);\n",
              "      const progress = document.createElement('progress');\n",
              "      progress.max = size;\n",
              "      div.appendChild(progress);\n",
              "      document.body.appendChild(div);\n",
              "\n",
              "      const buffers = [];\n",
              "      let downloaded = 0;\n",
              "\n",
              "      const channel = await google.colab.kernel.comms.open(id);\n",
              "      // Send a message to notify the kernel that we're ready.\n",
              "      channel.send({})\n",
              "\n",
              "      for await (const message of channel.messages) {\n",
              "        // Send a message to notify the kernel that we're ready.\n",
              "        channel.send({})\n",
              "        if (message.buffers) {\n",
              "          for (const buffer of message.buffers) {\n",
              "            buffers.push(buffer);\n",
              "            downloaded += buffer.byteLength;\n",
              "            progress.value = downloaded;\n",
              "          }\n",
              "        }\n",
              "      }\n",
              "      const blob = new Blob(buffers, {type: 'application/binary'});\n",
              "      const a = document.createElement('a');\n",
              "      a.href = window.URL.createObjectURL(blob);\n",
              "      a.download = filename;\n",
              "      div.appendChild(a);\n",
              "      a.click();\n",
              "      div.remove();\n",
              "    }\n",
              "  "
            ],
            "text/plain": [
              "<IPython.core.display.Javascript object>"
            ]
          },
          "metadata": {
            "tags": []
          }
        },
        {
          "output_type": "display_data",
          "data": {
            "application/javascript": [
              "download(\"download_38929ed1-993b-41ed-a881-1008406720b0\", \"handwrittern bangla letter32 VGG19.h5\", 253436056)"
            ],
            "text/plain": [
              "<IPython.core.display.Javascript object>"
            ]
          },
          "metadata": {
            "tags": []
          }
        }
      ]
    }
  ]
}